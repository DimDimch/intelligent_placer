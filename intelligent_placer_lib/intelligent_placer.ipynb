{
 "cells": [
  {
   "cell_type": "code",
   "execution_count": null,
   "id": "7c71d111",
   "metadata": {},
   "outputs": [],
   "source": [
    "!pip install --upgrade pip"
   ]
  },
  {
   "cell_type": "code",
   "execution_count": null,
   "id": "f06e0454",
   "metadata": {},
   "outputs": [],
   "source": [
    "!pip install -r requirements.txt"
   ]
  },
  {
   "cell_type": "markdown",
   "id": "ac279f3c",
   "metadata": {},
   "source": [
    "### Оснвной интрефейс\n",
    "Главной функцией является `check_image`, которая фозвращает результат работы алгоритма"
   ]
  },
  {
   "cell_type": "code",
   "execution_count": null,
   "id": "21762eea",
   "metadata": {},
   "outputs": [],
   "source": [
    "import intelligent_placer"
   ]
  },
  {
   "cell_type": "code",
   "execution_count": null,
   "id": "e196193f",
   "metadata": {},
   "outputs": [],
   "source": [
    "intelligent_placer.check_image('../input/01.jpeg', '../input/square_big.jpeg', draw=False)"
   ]
  },
  {
   "cell_type": "markdown",
   "id": "70e9fbbc",
   "metadata": {},
   "source": [
    "### Предобработка\n",
    "Это очень важный этап, посмотрим, как выполняется предобработка изображений с предметами и многоугольника"
   ]
  },
  {
   "cell_type": "code",
   "execution_count": null,
   "id": "cff0540f",
   "metadata": {},
   "outputs": [],
   "source": [
    "images = [\n",
    "    '../input/01.jpeg',\n",
    "    '../input/02.jpeg',\n",
    "    '../input/03.jpeg',\n",
    "    '../input/04.jpeg',\n",
    "    '../input/05.jpeg',\n",
    "    '../input/06.jpeg',\n",
    "    '../input/07.jpeg',\n",
    "    '../input/08.jpeg',\n",
    "    '../input/09.jpeg',\n",
    "    '../input/10.jpeg',\n",
    "    '../input/11.jpeg',\n",
    "    '../input/12.jpeg',\n",
    "    '../input/13.jpeg',\n",
    "    '../input/14.jpeg',\n",
    "    '../input/15.jpeg',\n",
    "    '../input/16.jpeg',\n",
    "    '../input/17.jpeg',\n",
    "    '../input/18.jpeg',\n",
    "    '../input/19.jpeg',\n",
    "    '../input/20.jpeg',\n",
    "    '../input/21.jpeg',\n",
    "    '../input/22.jpeg',\n",
    "    '../input/23.jpeg',\n",
    "    '../input/24.jpeg',\n",
    "    '../input/25.jpeg'\n",
    "]\n",
    "polygons = [\n",
    "    '../input/empty.jpeg',\n",
    "    '../input/square_big.jpeg',\n",
    "    '../input/square_middle.jpeg',\n",
    "    '../input/square_small.jpeg',\n",
    "    '../input/triangle_big.jpeg',\n",
    "    '../input/triangle_small.jpeg',\n",
    "    '../input/polygone_middle.jpeg',\n",
    "    '../input/T_middle.jpeg'\n",
    "]"
   ]
  },
  {
   "cell_type": "code",
   "execution_count": null,
   "id": "70597eea",
   "metadata": {},
   "outputs": [],
   "source": [
    "import recognition\n",
    "\n",
    "for path in images:\n",
    "    recognition.preprocess(path, draw=True)"
   ]
  },
  {
   "cell_type": "code",
   "execution_count": null,
   "id": "7c828284",
   "metadata": {},
   "outputs": [],
   "source": [
    "for path in polygons:\n",
    "    recognition.preprocess(path, draw=True)"
   ]
  }
 ],
 "metadata": {
  "kernelspec": {
   "display_name": "Python 3 (ipykernel)",
   "language": "python",
   "name": "python3"
  },
  "language_info": {
   "codemirror_mode": {
    "name": "ipython",
    "version": 3
   },
   "file_extension": ".py",
   "mimetype": "text/x-python",
   "name": "python",
   "nbconvert_exporter": "python",
   "pygments_lexer": "ipython3",
   "version": "3.9.12"
  }
 },
 "nbformat": 4,
 "nbformat_minor": 5
}
